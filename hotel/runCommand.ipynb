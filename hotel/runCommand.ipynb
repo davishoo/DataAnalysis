{
 "cells": [
  {
   "cell_type": "code",
   "execution_count": 6,
   "metadata": {},
   "outputs": [
    {
     "name": "stdout",
     "output_type": "stream",
     "text": [
      "Pls specify the path of input file ...\n",
      "Example: D:\\file\\python\\AutomatePDF\n",
      "\n",
      "\n",
      "C:\\Users\\deand\\pythonScripts\\hotel\\data\n",
      "Done!\n",
      "Output files are located at C:\\Users\\deand\\pythonScripts\\hotel\\data\n"
     ]
    }
   ],
   "source": [
    "import os\n",
    "scriptDir = r'D:\\GithubRepo\\DataAnalysis\\hotel'\n",
    "os.chdir(scriptDir)\n",
    "\n",
    "%run hotelDataUpdate.py\n",
    "\n",
    "os.chdir(scriptDir)"
   ]
  },
  {
   "cell_type": "code",
   "execution_count": 7,
   "metadata": {},
   "outputs": [
    {
     "data": {
      "text/plain": [
       "'D:\\\\GithubRepo\\\\DataAnalysis\\\\hotel'"
      ]
     },
     "execution_count": 7,
     "metadata": {},
     "output_type": "execute_result"
    }
   ],
   "source": [
    "%pwd"
   ]
  },
  {
   "cell_type": "code",
   "execution_count": null,
   "metadata": {},
   "outputs": [],
   "source": []
  }
 ],
 "metadata": {
  "kernelspec": {
   "display_name": "Python 3",
   "language": "python",
   "name": "python3"
  },
  "language_info": {
   "codemirror_mode": {
    "name": "ipython",
    "version": 3
   },
   "file_extension": ".py",
   "mimetype": "text/x-python",
   "name": "python",
   "nbconvert_exporter": "python",
   "pygments_lexer": "ipython3",
   "version": "3.7.3"
  }
 },
 "nbformat": 4,
 "nbformat_minor": 2
}
