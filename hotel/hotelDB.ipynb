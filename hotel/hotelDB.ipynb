{
 "cells": [
  {
   "cell_type": "code",
   "execution_count": 3,
   "metadata": {},
   "outputs": [
    {
     "name": "stdout",
     "output_type": "stream",
     "text": [
      "done\n"
     ]
    }
   ],
   "source": [
    "import pandas as pd\n",
    "hotel = pd.ExcelFile('hotelData.xlsx')\n",
    "hotelDF = pd.read_excel(hotel, 'Sheet1')\n",
    "\n",
    "\n",
    "\n",
    "hotelDF.columns = [['基本信息','基本信息','基本信息','基本信息','基本信息', '酒店销售', '酒店销售', \n",
    "                    '酒店销售', '酒店销售', '酒店销售', '酒店销售'], \n",
    "                   ['酒店名称', '酒店位置', '详细地址', '前台电话', '客房总数', '姓名', \n",
    "                    '手机', '座机', '微信','QQ','Email']]\n",
    "\n",
    "writer = pd.ExcelWriter('酒店完整信息表.xlsx')\n",
    "hotelDF.to_excel(writer, 'Sheet1')\n",
    "writer.save()\n",
    "\n",
    "writer = pd.ExcelWriter('酒店基本信息表.xlsx')\n",
    "hotelDF.基本信息.to_excel(writer, 'Sheet1', index = False)\n",
    "writer.save()\n",
    "\n",
    "print('done')"
   ]
  },
  {
   "cell_type": "code",
   "execution_count": 36,
   "metadata": {},
   "outputs": [
    {
     "data": {
      "text/plain": [
       "('基本信息', '基本信息', '基本信息', '基本信息', '基本信息')"
      ]
     },
     "execution_count": 36,
     "metadata": {},
     "output_type": "execute_result"
    }
   ],
   "source": [
    "level_1a = ('基本信息',) * 5  \n",
    "level_1a"
   ]
  },
  {
   "cell_type": "code",
   "execution_count": 37,
   "metadata": {},
   "outputs": [
    {
     "data": {
      "text/plain": [
       "('酒店销售', '酒店销售', '酒店销售', '酒店销售', '酒店销售', '酒店销售')"
      ]
     },
     "execution_count": 37,
     "metadata": {},
     "output_type": "execute_result"
    }
   ],
   "source": [
    "level_1b = ('酒店销售',) * 6\n",
    "level_1b"
   ]
  },
  {
   "cell_type": "code",
   "execution_count": 39,
   "metadata": {},
   "outputs": [
    {
     "data": {
      "text/plain": [
       "('基本信息',\n",
       " '基本信息',\n",
       " '基本信息',\n",
       " '基本信息',\n",
       " '基本信息',\n",
       " '酒店销售',\n",
       " '酒店销售',\n",
       " '酒店销售',\n",
       " '酒店销售',\n",
       " '酒店销售',\n",
       " '酒店销售')"
      ]
     },
     "execution_count": 39,
     "metadata": {},
     "output_type": "execute_result"
    }
   ],
   "source": [
    "level_1 = level_1a + level_1b\n",
    "level_1"
   ]
  },
  {
   "cell_type": "code",
   "execution_count": 41,
   "metadata": {},
   "outputs": [
    {
     "data": {
      "text/plain": [
       "('酒店名称', '酒店位置', '详细地址', '前台电话', '客房总数', '姓名', '手机', '座机', '微信', 'QQ', 'Email')"
      ]
     },
     "execution_count": 41,
     "metadata": {},
     "output_type": "execute_result"
    }
   ],
   "source": [
    "level2 = ('酒店名称', '酒店位置', '详细地址', '前台电话', '客房总数', '姓名', \n",
    "                    '手机', '座机', '微信','QQ','Email')\n",
    "level2"
   ]
  },
  {
   "cell_type": "code",
   "execution_count": 44,
   "metadata": {},
   "outputs": [
    {
     "name": "stdout",
     "output_type": "stream",
     "text": [
      "done\n"
     ]
    }
   ],
   "source": [
    "import pandas as pd\n",
    "hotel = pd.ExcelFile('hotelData.xlsx')\n",
    "hotelDF = pd.read_excel(hotel, 'Sheet1')\n",
    "\n",
    "level_1 = (('基本信息',) * 5) + (('酒店销售',) * 6)\n",
    "level_2 = ('酒店名称', '酒店位置', '详细地址', '前台电话', '客房总数', '姓名', \n",
    "                    '手机', '座机', '微信','QQ','Email')\n",
    "\n",
    "hotelDF.columns = [list(level_1), list(level_2)]\n",
    "\n",
    "writer = pd.ExcelWriter('酒店完整信息表.xlsx')\n",
    "hotelDF.to_excel(writer, 'Sheet1')\n",
    "writer.save()\n",
    "\n",
    "writer = pd.ExcelWriter('酒店基本信息表.xlsx')\n",
    "hotelDF.基本信息.to_excel(writer, 'Sheet1', index = False)\n",
    "writer.save()\n",
    "\n",
    "print('done')"
   ]
  },
  {
   "cell_type": "code",
   "execution_count": 45,
   "metadata": {},
   "outputs": [
    {
     "name": "stdout",
     "output_type": "stream",
     "text": [
      "done\n"
     ]
    }
   ],
   "source": [
    "%run hotelDataUpdate.py"
   ]
  },
  {
   "cell_type": "code",
   "execution_count": null,
   "metadata": {},
   "outputs": [],
   "source": []
  },
  {
   "cell_type": "code",
   "execution_count": null,
   "metadata": {},
   "outputs": [],
   "source": []
  },
  {
   "cell_type": "code",
   "execution_count": null,
   "metadata": {},
   "outputs": [],
   "source": []
  },
  {
   "cell_type": "code",
   "execution_count": null,
   "metadata": {},
   "outputs": [],
   "source": []
  },
  {
   "cell_type": "code",
   "execution_count": null,
   "metadata": {},
   "outputs": [],
   "source": []
  },
  {
   "cell_type": "code",
   "execution_count": null,
   "metadata": {},
   "outputs": [],
   "source": []
  },
  {
   "cell_type": "code",
   "execution_count": null,
   "metadata": {},
   "outputs": [],
   "source": []
  },
  {
   "cell_type": "code",
   "execution_count": null,
   "metadata": {},
   "outputs": [],
   "source": []
  }
 ],
 "metadata": {
  "kernelspec": {
   "display_name": "Python 3",
   "language": "python",
   "name": "python3"
  },
  "language_info": {
   "codemirror_mode": {
    "name": "ipython",
    "version": 3
   },
   "file_extension": ".py",
   "mimetype": "text/x-python",
   "name": "python",
   "nbconvert_exporter": "python",
   "pygments_lexer": "ipython3",
   "version": "3.7.3"
  }
 },
 "nbformat": 4,
 "nbformat_minor": 2
}
