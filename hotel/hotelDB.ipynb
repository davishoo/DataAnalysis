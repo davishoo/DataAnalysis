{
 "cells": [
  {
   "cell_type": "code",
   "execution_count": 3,
   "metadata": {},
   "outputs": [
    {
     "name": "stdout",
     "output_type": "stream",
     "text": [
      "done\n"
     ]
    }
   ],
   "source": [
    "import pandas as pd\n",
    "hotel = pd.ExcelFile('hotelData.xlsx')\n",
    "hotelDF = pd.read_excel(hotel, 'Sheet1')\n",
    "hotelDF.columns = [['基本信息','基本信息','基本信息','基本信息','基本信息', '酒店销售', '酒店销售', \n",
    "                    '酒店销售', '酒店销售', '酒店销售', '酒店销售'], \n",
    "                   ['酒店名称', '酒店位置', '详细地址', '前台电话', '客房总数', '姓名', \n",
    "                    '手机', '座机', '微信','QQ','Email']]\n",
    "\n",
    "writer = pd.ExcelWriter('hotelDB.xlsx')\n",
    "hotelDF.to_excel(writer, 'Sheet1')\n",
    "writer.save()\n",
    "print('done')"
   ]
  },
  {
   "cell_type": "code",
   "execution_count": null,
   "metadata": {},
   "outputs": [],
   "source": []
  }
 ],
 "metadata": {
  "kernelspec": {
   "display_name": "Python 3",
   "language": "python",
   "name": "python3"
  },
  "language_info": {
   "codemirror_mode": {
    "name": "ipython",
    "version": 3
   },
   "file_extension": ".py",
   "mimetype": "text/x-python",
   "name": "python",
   "nbconvert_exporter": "python",
   "pygments_lexer": "ipython3",
   "version": "3.7.3"
  }
 },
 "nbformat": 4,
 "nbformat_minor": 2
}
