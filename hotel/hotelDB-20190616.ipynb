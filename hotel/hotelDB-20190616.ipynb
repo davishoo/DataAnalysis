{
 "cells": [
  {
   "cell_type": "code",
   "execution_count": 1,
   "metadata": {},
   "outputs": [
    {
     "data": {
      "text/plain": [
       "'C:\\\\Users\\\\Administrator\\\\pythonScript\\\\hotel'"
      ]
     },
     "execution_count": 1,
     "metadata": {},
     "output_type": "execute_result"
    }
   ],
   "source": [
    "%pwd"
   ]
  },
  {
   "cell_type": "code",
   "execution_count": 2,
   "metadata": {},
   "outputs": [],
   "source": [
    "import pandas as pd"
   ]
  },
  {
   "cell_type": "code",
   "execution_count": 22,
   "metadata": {},
   "outputs": [
    {
     "data": {
      "text/html": [
       "<div>\n",
       "<style scoped>\n",
       "    .dataframe tbody tr th:only-of-type {\n",
       "        vertical-align: middle;\n",
       "    }\n",
       "\n",
       "    .dataframe tbody tr th {\n",
       "        vertical-align: top;\n",
       "    }\n",
       "\n",
       "    .dataframe thead th {\n",
       "        text-align: right;\n",
       "    }\n",
       "</style>\n",
       "<table border=\"1\" class=\"dataframe\">\n",
       "  <thead>\n",
       "    <tr style=\"text-align: right;\">\n",
       "      <th></th>\n",
       "      <th>酒店名称</th>\n",
       "      <th>酒店位置</th>\n",
       "      <th>详细地址</th>\n",
       "      <th>前台电话</th>\n",
       "      <th>客房总数</th>\n",
       "      <th>销售姓名</th>\n",
       "      <th>销售手机</th>\n",
       "      <th>销售座机</th>\n",
       "      <th>销售微信</th>\n",
       "      <th>QQ</th>\n",
       "      <th>销售邮箱</th>\n",
       "    </tr>\n",
       "  </thead>\n",
       "  <tbody>\n",
       "    <tr>\n",
       "      <th>0</th>\n",
       "      <td>港岛太平洋</td>\n",
       "      <td>西营盘</td>\n",
       "      <td>西营盘xxxx-1</td>\n",
       "      <td>xx</td>\n",
       "      <td>xx</td>\n",
       "      <td>Iman</td>\n",
       "      <td>mobile - test1</td>\n",
       "      <td>officePhone-test1</td>\n",
       "      <td>wechat-test1</td>\n",
       "      <td>23</td>\n",
       "      <td>imanyip@islandpacifichotel.com.hk</td>\n",
       "    </tr>\n",
       "    <tr>\n",
       "      <th>1</th>\n",
       "      <td>最佳盛品尖沙咀</td>\n",
       "      <td>尖沙咀尖东</td>\n",
       "      <td>尖沙咀尖东xxx</td>\n",
       "      <td>xx</td>\n",
       "      <td>xx</td>\n",
       "      <td>Fiona</td>\n",
       "      <td>mobile - test2</td>\n",
       "      <td>officePhone-test2</td>\n",
       "      <td>wechat-test2</td>\n",
       "      <td>DD</td>\n",
       "      <td>ssmcorp@bestwesternplushotelkln.com</td>\n",
       "    </tr>\n",
       "    <tr>\n",
       "      <th>2</th>\n",
       "      <td>如心铜锣湾海景酒店</td>\n",
       "      <td>銅鑼灣</td>\n",
       "      <td>銅鑼灣xxx</td>\n",
       "      <td>xx</td>\n",
       "      <td>xx</td>\n",
       "      <td>nadia</td>\n",
       "      <td>mobile - test3</td>\n",
       "      <td>officePhone-test3</td>\n",
       "      <td>wechat-test3</td>\n",
       "      <td>DD</td>\n",
       "      <td>nadiachan@lhotelgroup.com</td>\n",
       "    </tr>\n",
       "  </tbody>\n",
       "</table>\n",
       "</div>"
      ],
      "text/plain": [
       "        酒店名称   酒店位置       详细地址 前台电话 客房总数   销售姓名            销售手机  \\\n",
       "0      港岛太平洋    西营盘  西营盘xxxx-1   xx   xx   Iman  mobile - test1   \n",
       "1    最佳盛品尖沙咀  尖沙咀尖东   尖沙咀尖东xxx   xx   xx  Fiona  mobile - test2   \n",
       "2  如心铜锣湾海景酒店    銅鑼灣     銅鑼灣xxx   xx   xx  nadia  mobile - test3   \n",
       "\n",
       "                销售座机          销售微信  QQ                                 销售邮箱  \n",
       "0  officePhone-test1  wechat-test1  23    imanyip@islandpacifichotel.com.hk  \n",
       "1  officePhone-test2  wechat-test2  DD  ssmcorp@bestwesternplushotelkln.com  \n",
       "2  officePhone-test3  wechat-test3  DD            nadiachan@lhotelgroup.com  "
      ]
     },
     "execution_count": 22,
     "metadata": {},
     "output_type": "execute_result"
    }
   ],
   "source": [
    "hotel = pd.ExcelFile('hotelData.xlsx')\n",
    "hotelDF = pd.read_excel(hotel, 'Sheet1')\n",
    "hotelDF"
   ]
  },
  {
   "cell_type": "code",
   "execution_count": 30,
   "metadata": {},
   "outputs": [
    {
     "data": {
      "text/html": [
       "<div>\n",
       "<style scoped>\n",
       "    .dataframe tbody tr th:only-of-type {\n",
       "        vertical-align: middle;\n",
       "    }\n",
       "\n",
       "    .dataframe tbody tr th {\n",
       "        vertical-align: top;\n",
       "    }\n",
       "\n",
       "    .dataframe thead tr th {\n",
       "        text-align: left;\n",
       "    }\n",
       "</style>\n",
       "<table border=\"1\" class=\"dataframe\">\n",
       "  <thead>\n",
       "    <tr>\n",
       "      <th></th>\n",
       "      <th colspan=\"5\" halign=\"left\">基本信息</th>\n",
       "      <th colspan=\"6\" halign=\"left\">酒店销售</th>\n",
       "    </tr>\n",
       "    <tr>\n",
       "      <th></th>\n",
       "      <th>酒店名称</th>\n",
       "      <th>酒店位置</th>\n",
       "      <th>详细地址</th>\n",
       "      <th>前台电话</th>\n",
       "      <th>客房总数</th>\n",
       "      <th>姓名</th>\n",
       "      <th>手机</th>\n",
       "      <th>座机</th>\n",
       "      <th>微信</th>\n",
       "      <th>QQ</th>\n",
       "      <th>Email</th>\n",
       "    </tr>\n",
       "  </thead>\n",
       "  <tbody>\n",
       "    <tr>\n",
       "      <th>0</th>\n",
       "      <td>港岛太平洋</td>\n",
       "      <td>西营盘</td>\n",
       "      <td>西营盘xxxx-1</td>\n",
       "      <td>xx</td>\n",
       "      <td>xx</td>\n",
       "      <td>Iman</td>\n",
       "      <td>mobile - test1</td>\n",
       "      <td>officePhone-test1</td>\n",
       "      <td>wechat-test1</td>\n",
       "      <td>23</td>\n",
       "      <td>imanyip@islandpacifichotel.com.hk</td>\n",
       "    </tr>\n",
       "    <tr>\n",
       "      <th>1</th>\n",
       "      <td>最佳盛品尖沙咀</td>\n",
       "      <td>尖沙咀尖东</td>\n",
       "      <td>尖沙咀尖东xxx</td>\n",
       "      <td>xx</td>\n",
       "      <td>xx</td>\n",
       "      <td>Fiona</td>\n",
       "      <td>mobile - test2</td>\n",
       "      <td>officePhone-test2</td>\n",
       "      <td>wechat-test2</td>\n",
       "      <td>DD</td>\n",
       "      <td>ssmcorp@bestwesternplushotelkln.com</td>\n",
       "    </tr>\n",
       "    <tr>\n",
       "      <th>2</th>\n",
       "      <td>如心铜锣湾海景酒店</td>\n",
       "      <td>銅鑼灣</td>\n",
       "      <td>銅鑼灣xxx</td>\n",
       "      <td>xx</td>\n",
       "      <td>xx</td>\n",
       "      <td>nadia</td>\n",
       "      <td>mobile - test3</td>\n",
       "      <td>officePhone-test3</td>\n",
       "      <td>wechat-test3</td>\n",
       "      <td>DD</td>\n",
       "      <td>nadiachan@lhotelgroup.com</td>\n",
       "    </tr>\n",
       "  </tbody>\n",
       "</table>\n",
       "</div>"
      ],
      "text/plain": [
       "        基本信息                               酒店销售                  \\\n",
       "        酒店名称   酒店位置       详细地址 前台电话 客房总数     姓名              手机   \n",
       "0      港岛太平洋    西营盘  西营盘xxxx-1   xx   xx   Iman  mobile - test1   \n",
       "1    最佳盛品尖沙咀  尖沙咀尖东   尖沙咀尖东xxx   xx   xx  Fiona  mobile - test2   \n",
       "2  如心铜锣湾海景酒店    銅鑼灣     銅鑼灣xxx   xx   xx  nadia  mobile - test3   \n",
       "\n",
       "                                                                             \n",
       "                  座机            微信  QQ                                Email  \n",
       "0  officePhone-test1  wechat-test1  23    imanyip@islandpacifichotel.com.hk  \n",
       "1  officePhone-test2  wechat-test2  DD  ssmcorp@bestwesternplushotelkln.com  \n",
       "2  officePhone-test3  wechat-test3  DD            nadiachan@lhotelgroup.com  "
      ]
     },
     "execution_count": 30,
     "metadata": {},
     "output_type": "execute_result"
    }
   ],
   "source": [
    "hotelDF.columns = [['基本信息','基本信息','基本信息','基本信息','基本信息', '酒店销售', '酒店销售', \n",
    "                    '酒店销售', '酒店销售', '酒店销售', '酒店销售'], \n",
    "                   ['酒店名称', '酒店位置', '详细地址', '前台电话', '客房总数', '姓名', \n",
    "                    '手机', '座机', '微信','QQ','Email']]\n",
    "hotelDF"
   ]
  },
  {
   "cell_type": "code",
   "execution_count": 31,
   "metadata": {},
   "outputs": [],
   "source": [
    "writer = pd.ExcelWriter('hotelDB.xlsx')\n",
    "hotelDF.to_excel(writer, 'Sheet1')\n",
    "writer.save()"
   ]
  },
  {
   "cell_type": "code",
   "execution_count": null,
   "metadata": {},
   "outputs": [],
   "source": []
  },
  {
   "cell_type": "code",
   "execution_count": null,
   "metadata": {},
   "outputs": [],
   "source": []
  },
  {
   "cell_type": "code",
   "execution_count": null,
   "metadata": {},
   "outputs": [],
   "source": []
  },
  {
   "cell_type": "code",
   "execution_count": null,
   "metadata": {},
   "outputs": [],
   "source": []
  },
  {
   "cell_type": "code",
   "execution_count": null,
   "metadata": {},
   "outputs": [],
   "source": []
  },
  {
   "cell_type": "code",
   "execution_count": null,
   "metadata": {},
   "outputs": [],
   "source": []
  }
 ],
 "metadata": {
  "kernelspec": {
   "display_name": "Python 3",
   "language": "python",
   "name": "python3"
  },
  "language_info": {
   "codemirror_mode": {
    "name": "ipython",
    "version": 3
   },
   "file_extension": ".py",
   "mimetype": "text/x-python",
   "name": "python",
   "nbconvert_exporter": "python",
   "pygments_lexer": "ipython3",
   "version": "3.7.3"
  }
 },
 "nbformat": 4,
 "nbformat_minor": 2
}
